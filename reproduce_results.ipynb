{
 "cells": [
  {
   "cell_type": "markdown",
   "metadata": {},
   "source": [
    "# Reproduce results of the paper"
   ]
  },
  {
   "cell_type": "markdown",
   "metadata": {},
   "source": [
    "This notebook allows you to reproduce the main experiments of the paper. Run all cells in order, following any instructions that are given. Only make changes to cells if instructions permit.\n",
    "\n",
    "First, please ensure the dataset is downloaded and placed it the project folder. The dataset is obtained from: https://www.kaggle.com/paultimothymooney/chest-xray-pneumonia"
   ]
  },
  {
   "cell_type": "markdown",
   "metadata": {},
   "source": [
    "### Install Requirements\n",
    "\n",
    "Next, ensure all requirements are installed"
   ]
  },
  {
   "cell_type": "code",
   "execution_count": null,
   "metadata": {},
   "outputs": [],
   "source": [
    "! pip install -r requirements.txt"
   ]
  },
  {
   "cell_type": "markdown",
   "metadata": {},
   "source": [
    "### Training Preparation"
   ]
  },
  {
   "cell_type": "markdown",
   "metadata": {},
   "source": [
    "Import the relevant modules"
   ]
  },
  {
   "cell_type": "code",
   "execution_count": null,
   "metadata": {},
   "outputs": [],
   "source": [
    "import torch\n",
    "import numpy as np\n",
    "import random\n",
    "\n",
    "import utils\n",
    "from utils.data_loaders import create_loaders, quick_loader_test, full_loader_test\n",
    "from utils.training import create_model_and_optimizer, train_model\n",
    "from utils.evaluation import get_training_results, evaluate_model\n",
    "from utils.visualisations import visualise_model_predictions"
   ]
  },
  {
   "cell_type": "markdown",
   "metadata": {},
   "source": [
    "Set random seed for reproducability"
   ]
  },
  {
   "cell_type": "code",
   "execution_count": null,
   "metadata": {},
   "outputs": [],
   "source": [
    "random.seed(0)\n",
    "np.random.seed(0)\n",
    "torch.manual_seed(0)"
   ]
  },
  {
   "cell_type": "markdown",
   "metadata": {},
   "source": [
    "The following cell allows you to choose which model to train. You may also change hyperparameters. Provided hyperparameters are those used in the main experiment of the paper."
   ]
  },
  {
   "cell_type": "code",
   "execution_count": null,
   "metadata": {},
   "outputs": [],
   "source": [
    "# MAIN CHOICE\n",
    "# -----------\n",
    "\n",
    "# Choose model architecture\n",
    "# Choose one of: 'SmallCNN' 'CamCNN' 'LargeCNN' 'ResNet3fc' 'ResNet1fc' (must be identical string)\n",
    "model_type = 'CamCNN' \n",
    "\n",
    "# Directory chest-xray data is stored in\n",
    "data_dir = 'chest_xray'\n",
    "\n",
    "# Directory to save models and logs\n",
    "exp_dir = 'experiments/reproduce'\n",
    "\n",
    "# ADDITIONAL OPTIONS - recommended to leave these at default values to properly recreate experiments\n",
    "# ------------------\n",
    "\n",
    "# Choose to use original data split\n",
    "use_og_split = True # If False, training data is split into train/val/test\n",
    "\n",
    "# Perform augmentation on training data\n",
    "augment_data = True\n",
    "\n",
    "# Weight sampling of training data so both classes are sampled equally\n",
    "weight_samples = True\n",
    "\n",
    "# Use dropout in fully-connected layers of model\n",
    "use_dropout = True\n",
    "\n",
    "# Use adam optimizer. If False, SGD is used\n",
    "use_adam = True\n",
    "\n",
    "learning_rate = 0.001 # Select learning rate\n",
    "batch_size = 16       # Select batch size\n",
    "epochs = 50           # Select number of training epochs"
   ]
  },
  {
   "cell_type": "markdown",
   "metadata": {},
   "source": [
    "Obtain the dataloaders"
   ]
  },
  {
   "cell_type": "code",
   "execution_count": null,
   "metadata": {},
   "outputs": [],
   "source": [
    "train_loader, valid_loader, test_loader = create_loaders(data_dir, augment_data, weight_samples, batch_size, use_og_split, num_workers=2)"
   ]
  },
  {
   "cell_type": "markdown",
   "metadata": {},
   "source": [
    "Perform a quick visual test of the training dataloader"
   ]
  },
  {
   "cell_type": "code",
   "execution_count": null,
   "metadata": {},
   "outputs": [],
   "source": [
    "quick_loader_test(train_loader)"
   ]
  },
  {
   "cell_type": "markdown",
   "metadata": {},
   "source": [
    "Create the model"
   ]
  },
  {
   "cell_type": "code",
   "execution_count": null,
   "metadata": {},
   "outputs": [],
   "source": [
    "model, optimizer = create_model_and_optimizer(model_type, use_dropout, use_adam, learning_rate)"
   ]
  },
  {
   "cell_type": "markdown",
   "metadata": {},
   "source": [
    "### Training\n",
    "\n",
    "Finally, begin training the model !!\n",
    "\n",
    "Expect each epoch to take somewhere between 5-10 mins with a GPU"
   ]
  },
  {
   "cell_type": "code",
   "execution_count": null,
   "metadata": {},
   "outputs": [],
   "source": [
    "train_model(model, optimizer, train_loader, valid_loader, epochs, exp_dir)"
   ]
  },
  {
   "cell_type": "markdown",
   "metadata": {},
   "source": [
    "### Evaluation\n",
    "\n",
    "Now we will evaluate the model with the lowest validation loss.\n",
    "\n",
    "First, lets display the training results and load in the best model."
   ]
  },
  {
   "cell_type": "code",
   "execution_count": null,
   "metadata": {},
   "outputs": [],
   "source": [
    "best_model = get_training_results(model_type, exp_dir, use_dropout)"
   ]
  },
  {
   "cell_type": "markdown",
   "metadata": {},
   "source": [
    "Now the best model will be evaluated on the test data"
   ]
  },
  {
   "cell_type": "code",
   "execution_count": null,
   "metadata": {},
   "outputs": [],
   "source": [
    "evaluate_model(best_model, test_loader, exp_dir)"
   ]
  },
  {
   "cell_type": "markdown",
   "metadata": {},
   "source": [
    "### Model Interpretation\n",
    "\n",
    "Now we will visualise which areas of the image the model is focusing on when making predictions\n",
    "\n",
    "If the model is a 'SmallCNN' or a ResNet, the Grad-CAM technique is used.\n",
    "\n",
    "If the model is a 'CAM_CNN' then the CAM method is used."
   ]
  },
  {
   "cell_type": "code",
   "execution_count": null,
   "metadata": {},
   "outputs": [],
   "source": [
    "visualise_model_predictions(best_model, test_loader, exp_dir)"
   ]
  },
  {
   "cell_type": "code",
   "execution_count": null,
   "metadata": {},
   "outputs": [],
   "source": []
  }
 ],
 "metadata": {
  "kernelspec": {
   "display_name": "Python 3",
   "language": "python",
   "name": "python3"
  },
  "language_info": {
   "codemirror_mode": {
    "name": "ipython",
    "version": 3
   },
   "file_extension": ".py",
   "mimetype": "text/x-python",
   "name": "python",
   "nbconvert_exporter": "python",
   "pygments_lexer": "ipython3",
   "version": "3.8.3"
  }
 },
 "nbformat": 4,
 "nbformat_minor": 4
}
