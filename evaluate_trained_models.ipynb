{
 "cells": [
  {
   "cell_type": "markdown",
   "metadata": {},
   "source": [
    "# Evaluate the models presented in the paper\n",
    "\n",
    "This notebooks allows you to re-evaluate the model whose results are presented in the paper. Model weights are saved in the experiments directory and will be loaded in automatically. Run all cells in order, following any instructions that are given.\n",
    "\n",
    "First, please ensure the dataset is downloaded and placed it the project folder. The dataset is obtained from: https://www.kaggle.com/paultimothymooney/chest-xray-pneumonia"
   ]
  },
  {
   "cell_type": "markdown",
   "metadata": {},
   "source": [
    "### Install Requirements\n",
    "\n",
    "Next, ensure all requirements are installed"
   ]
  },
  {
   "cell_type": "code",
   "execution_count": null,
   "metadata": {},
   "outputs": [],
   "source": [
    "! pip install -r requirements.txt"
   ]
  },
  {
   "cell_type": "markdown",
   "metadata": {},
   "source": [
    "### Prepare for Evaluation"
   ]
  },
  {
   "cell_type": "markdown",
   "metadata": {},
   "source": [
    "Import required modules"
   ]
  },
  {
   "cell_type": "code",
   "execution_count": null,
   "metadata": {},
   "outputs": [],
   "source": [
    "from utils.data_loaders import create_loaders\n",
    "from utils.evaluation import get_saved_model, evaluate_model\n",
    "from utils.visualisations import visualise_model_predictions"
   ]
  },
  {
   "cell_type": "markdown",
   "metadata": {},
   "source": [
    "The following cell allows you to choose which model you wish to evaluate. You may choose one of the four models whose results were presented in the main experiment of the paper."
   ]
  },
  {
   "cell_type": "code",
   "execution_count": null,
   "metadata": {},
   "outputs": [],
   "source": [
    "# Choose model architecture\n",
    "# Choose one of: 'SmallCNN' 'CamCNN' 'LargeCNN' 'ResNet3fc' 'ResNet1fc' (must be identical string)\n",
    "model_type = 'ResNet1fc'\n",
    "\n",
    "# Directory chest-xray data is stored in\n",
    "data_dir = 'chest_xray'"
   ]
  },
  {
   "cell_type": "markdown",
   "metadata": {},
   "source": [
    "Obtain the dataloaders"
   ]
  },
  {
   "cell_type": "code",
   "execution_count": null,
   "metadata": {},
   "outputs": [],
   "source": [
    "augment_data = False\n",
    "weight_samples = False\n",
    "batch_size = 16\n",
    "use_og_split = True\n",
    "\n",
    "train_loader, valid_loader, test_loader = create_loaders(data_dir, augment_data, weight_samples, batch_size, use_og_split, num_workers=2)"
   ]
  },
  {
   "cell_type": "markdown",
   "metadata": {},
   "source": [
    "### Evaluation"
   ]
  },
  {
   "cell_type": "markdown",
   "metadata": {},
   "source": [
    "First, we will load in the saved model and print its training results"
   ]
  },
  {
   "cell_type": "code",
   "execution_count": null,
   "metadata": {},
   "outputs": [],
   "source": [
    "model = get_saved_model(model_type)"
   ]
  },
  {
   "cell_type": "markdown",
   "metadata": {},
   "source": [
    "Now we will evaluate the model on the test data"
   ]
  },
  {
   "cell_type": "code",
   "execution_count": null,
   "metadata": {},
   "outputs": [],
   "source": [
    "evaluate_model(model, test_loader, None)"
   ]
  },
  {
   "cell_type": "markdown",
   "metadata": {},
   "source": [
    "### Model Interpretation\n",
    "\n",
    "Now we will visualise which areas of the image the model is focusing on when making predictions\n",
    "\n",
    "If the model is a 'SmallCNN' or a ResNet, the Grad-CAM technique is used.\n",
    "\n",
    "If the model is a 'CAM_CNN' then the CAM method is used."
   ]
  },
  {
   "cell_type": "code",
   "execution_count": null,
   "metadata": {},
   "outputs": [],
   "source": [
    "visualise_model_predictions(model, test_loader, None)"
   ]
  },
  {
   "cell_type": "code",
   "execution_count": null,
   "metadata": {},
   "outputs": [],
   "source": []
  }
 ],
 "metadata": {
  "kernelspec": {
   "display_name": "Python 3",
   "language": "python",
   "name": "python3"
  },
  "language_info": {
   "codemirror_mode": {
    "name": "ipython",
    "version": 3
   },
   "file_extension": ".py",
   "mimetype": "text/x-python",
   "name": "python",
   "nbconvert_exporter": "python",
   "pygments_lexer": "ipython3",
   "version": "3.8.3"
  }
 },
 "nbformat": 4,
 "nbformat_minor": 4
}
